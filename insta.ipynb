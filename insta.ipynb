{
  "nbformat": 4,
  "nbformat_minor": 0,
  "metadata": {
    "colab": {
      "name": "insta.ipynb",
      "provenance": [],
      "collapsed_sections": []
    },
    "kernelspec": {
      "name": "python3",
      "display_name": "Python 3"
    }
  },
  "cells": [
    {
      "cell_type": "code",
      "metadata": {
        "id": "kO6P-0Jb0e9b"
      },
      "source": [
        "#Insta follower"
      ],
      "execution_count": null,
      "outputs": []
    },
    {
      "cell_type": "code",
      "metadata": {
        "id": "VrEMYtsR2mZO",
        "colab": {
          "base_uri": "https://localhost:8080/"
        },
        "outputId": "9b628ac5-f12a-4f2b-996a-1ab6d2b50327"
      },
      "source": [
        "#импортируем модуль drive\r\n",
        "from google.colab import drive\r\n",
        "#подключаем сolab к  диску\r\n",
        "drive.mount('/content/gdrive', force_remount = True)"
      ],
      "execution_count": 1,
      "outputs": [
        {
          "output_type": "stream",
          "text": [
            "Mounted at /content/gdrive\n"
          ],
          "name": "stdout"
        }
      ]
    },
    {
      "cell_type": "code",
      "metadata": {
        "id": "tIZGibNz2mb-",
        "colab": {
          "base_uri": "https://localhost:8080/"
        },
        "outputId": "3e92191e-eae2-48e8-8beb-b56008314d7a"
      },
      "source": [
        "#импортируем модуль pandas\r\n",
        "import pandas as pd\r\n",
        "#путь до файла\r\n",
        "path = '/content/gdrive/My Drive/COLAB_Andemir/homeworks/insta_follower.csv'\r\n",
        "#читаем файл\r\n",
        "data = pd.read_csv(path)\r\n",
        "#новый словарь\r\n",
        "dict_followers = {}\r\n",
        "#проходимся построчно\r\n",
        "for i, rows in data.iterrows():\r\n",
        "  #проходимся по названиям аккаунтов\r\n",
        "  for name in rows:\r\n",
        "    #проверка на наличие пустых ячеек\r\n",
        "    if pd.isnull(name):\r\n",
        "      #пропускаем пустые ячейки\r\n",
        "      continue\r\n",
        "    #подсчет подписчиков на каждый аккаунт\r\n",
        "    dict_followers[name] = dict_followers[name] + 1 if name in dict_followers else 1\r\n",
        "#создаем топ аккаунтов по популярности\r\n",
        "top_accounts = sorted(dict_followers, key = dict_followers.get, reverse = True)[2:22] \r\n",
        "#записываем топ аккаунтов в словарь\r\n",
        "report_dict = {i:dict_followers[i] for i in top_accounts}\r\n",
        "#печатаем report_dict\r\n",
        "for i in report_dict:\r\n",
        "  print(i, report_dict[i])     "
      ],
      "execution_count": 2,
      "outputs": [
        {
          "output_type": "stream",
          "text": [
            "patriot_kbr 22\n",
            "ПАТРИОТ КАБАРДИНО-БАЛКАРИИ🌀 22\n",
            "ЧП / Нальчик , КБР 🔞 17\n",
            "kokov_kazbek_ 16\n",
            "Казбек Коков 16\n",
            "nalchiknews 14\n",
            "Новости Нальчика 14\n",
            "chp.nalchik 12\n",
            "kanokov_arsen 10\n",
            "Арсен Каноков 10\n",
            "Залина 9\n",
            "koronavirus_shtabkbr07 9\n",
            "Оперативный штаб КБР 9\n",
            "murat.altuev 9\n",
            "Мурат Алтуев 9\n",
            "direct_kbr 8\n",
            "ДИРЕКТ КБР️ 8\n",
            "prada.cake 7\n",
            "Prada Cake 7\n",
            "kbr_obyavleniya07_ 7\n"
          ],
          "name": "stdout"
        }
      ]
    },
    {
      "cell_type": "code",
      "metadata": {
        "id": "m8rkbzPt0gEx"
      },
      "source": [
        ""
      ],
      "execution_count": null,
      "outputs": []
    }
  ]
}